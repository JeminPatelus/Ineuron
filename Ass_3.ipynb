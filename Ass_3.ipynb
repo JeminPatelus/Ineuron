{
 "cells": [
  {
   "cell_type": "code",
   "execution_count": 2,
   "id": "dd61b9e6",
   "metadata": {},
   "outputs": [
    {
     "name": "stdout",
     "output_type": "stream",
     "text": [
      "enter a number: 10\n",
      "[1, 2, 3, 4, 5, 6, 7, 8, 9, 10]\n",
      "[1, 3, 6, 10, 15, 21, 28, 36, 45, 55]\n"
     ]
    }
   ],
   "source": [
    "def myreduce(num):\n",
    "    numbers = list(range(1,number+1))\n",
    "    sum = 0\n",
    "    x = []\n",
    "    \n",
    "    for i in numbers:\n",
    "        sum += i\n",
    "        x.append(sum)\n",
    "    return numbers, x\n",
    "\n",
    "number = int(input(\"enter a number: \"))\n",
    "out = myreduce(number)\n",
    "\n",
    "print(out[0])\n",
    "print(out[1])"
   ]
  },
  {
   "cell_type": "code",
   "execution_count": 18,
   "id": "7a62ee40",
   "metadata": {},
   "outputs": [
    {
     "name": "stdout",
     "output_type": "stream",
     "text": [
      "[83, 88, 89, 74, 80, 12, 85, 22, 15, 100]\n",
      "Even numbers:  [88, 74, 80, 12, 22, 100]\n",
      "Odd numbers:  [83, 89, 85, 15]\n"
     ]
    }
   ],
   "source": [
    "import random\n",
    "randomlist = []\n",
    "for i in range(0,10):\n",
    "    n = random.randint(1,100)\n",
    "    randomlist.append(n)\n",
    "print(randomlist)\n",
    "\n",
    "def myfilter(randomlist):\n",
    "    even_number = []\n",
    "    odd_number = []\n",
    "    for i in randomlist:\n",
    "        if (i % 2)== 0:\n",
    "            even_number.append(i)\n",
    "        else:\n",
    "            odd_number.append(i)\n",
    "    return even_number, odd_number\n",
    "\n",
    "output = myfilter(randomlist)\n",
    "print(\"Even numbers: \", output[0])\n",
    "print(\"Odd numbers: \",output[1])"
   ]
  },
  {
   "cell_type": "code",
   "execution_count": 19,
   "id": "3d82c247",
   "metadata": {},
   "outputs": [
    {
     "name": "stdout",
     "output_type": "stream",
     "text": [
      "['x', 'xx', 'xxx', 'xxxx', 'y', 'yy', 'yyy', 'yyyy', 'z', 'zz', 'zzz', 'zzzz']\n",
      "['x', 'y', 'z', 'xx', 'yy', 'zz', 'xxx', 'yyy', 'zzz', 'xxxx', 'yyyy', 'zzzz']\n",
      "[[2], [3], [4], [3], [4], [5], [4], [5], [6]]\n",
      "[[2, 3, 4, 5], [3, 4, 5, 6], [4, 5, 6, 7], [5, 6, 7, 8]]\n",
      "[(1, 1), (1, 2), (1, 3), (2, 1), (2, 2), (2, 3), (3, 1), (3, 2), (3, 3)]\n"
     ]
    }
   ],
   "source": [
    "word = 'xyz'\n",
    "word1 = [x*n for x in word for n in range(1,5)]\n",
    "print(word1)\n",
    "\n",
    "word2 =  [x*n for x in range(1,5) for n in word]\n",
    "print(word2)\n",
    "\n",
    "number = [2,3,4]\n",
    "num1 = [[x+n] for x in number for n in range(0,3)]\n",
    "print(num1)\n",
    "\n",
    "number2 = [2,3,4,5]\n",
    "num2 = [[x+n for x in range(0,4)] for n in number2]\n",
    "print(num2)\n",
    "\n",
    "number3 = [1,2,3]\n",
    "num3 = [(x,n) for x in number3 for n in number3 ]\n",
    "print(num3)\n"
   ]
  },
  {
   "cell_type": "code",
   "execution_count": null,
   "id": "731ac533",
   "metadata": {},
   "outputs": [],
   "source": []
  }
 ],
 "metadata": {
  "kernelspec": {
   "display_name": "Python 3 (ipykernel)",
   "language": "python",
   "name": "python3"
  },
  "language_info": {
   "codemirror_mode": {
    "name": "ipython",
    "version": 3
   },
   "file_extension": ".py",
   "mimetype": "text/x-python",
   "name": "python",
   "nbconvert_exporter": "python",
   "pygments_lexer": "ipython3",
   "version": "3.9.7"
  }
 },
 "nbformat": 4,
 "nbformat_minor": 5
}
